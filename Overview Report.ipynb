{
 "cells": [
  {
   "cell_type": "markdown",
   "id": "290ef84b-0a30-474f-b86f-8029e8bb364e",
   "metadata": {},
   "source": [
    "# Capstone Project Overview"
   ]
  },
  {
   "cell_type": "markdown",
   "id": "835241aa-6990-4295-8572-6946cff6f419",
   "metadata": {},
   "source": [
    "## Project Goal"
   ]
  },
  {
   "cell_type": "markdown",
   "id": "df650f7a-bbbb-4e5a-a655-b747ee15c390",
   "metadata": {},
   "source": [
    "The goal of this project is to deliver a model to support loan applications approval. The model is able to work with real time data to predict if the applicant will full repay the loan. The model can be used to provide initial assessment for applicants.\n"
   ]
  },
  {
   "cell_type": "markdown",
   "id": "3d99b767-9a11-44f0-b444-024acd75de62",
   "metadata": {},
   "source": [
    "## Data Used"
   ]
  },
  {
   "cell_type": "markdown",
   "id": "843a4159-ca86-4070-b5bf-cb167655abbe",
   "metadata": {},
   "source": [
    "The model only uses numerical data excluding ones with more than 50% NaNs."
   ]
  },
  {
   "cell_type": "markdown",
   "id": "1741f7a3-ee6b-4094-98b9-d21189f6dfc6",
   "metadata": {},
   "source": [
    "## Model Types"
   ]
  },
  {
   "cell_type": "markdown",
   "id": "fc9d90dc-c4ed-49ec-9bbb-e49cee450a77",
   "metadata": {},
   "source": [
    "Three type of models have been trialled: RandomForest, RandomForest with SMOTE and XGBoost.\n",
    "The Randomforest even though having better accuracy didn't predict enough defaulters. Attempted to solve the class imbalance using SMOTE.\n",
    "With SMOTE, the performance slightly improved but still bad on defaulters prediction.\n",
    "XGBoost was able to detect defaulters much better but suffers from high false positives. "
   ]
  },
  {
   "cell_type": "markdown",
   "id": "52c535d8-9504-416b-8324-a987321d547f",
   "metadata": {},
   "source": [
    "## Future Improvements"
   ]
  },
  {
   "cell_type": "markdown",
   "id": "963b80f6-49d9-4709-90f8-c48d017037dc",
   "metadata": {},
   "source": [
    "Further work can be made to improve the models. Adding categorical data, cleaning features for outliers and dealing with feature correlation.\n",
    "Another worthy improvement is calculating composite features."
   ]
  }
 ],
 "metadata": {
  "kernelspec": {
   "display_name": "Python 3 (ipykernel)",
   "language": "python",
   "name": "python3"
  },
  "language_info": {
   "codemirror_mode": {
    "name": "ipython",
    "version": 3
   },
   "file_extension": ".py",
   "mimetype": "text/x-python",
   "name": "python",
   "nbconvert_exporter": "python",
   "pygments_lexer": "ipython3",
   "version": "3.11.9"
  }
 },
 "nbformat": 4,
 "nbformat_minor": 5
}
